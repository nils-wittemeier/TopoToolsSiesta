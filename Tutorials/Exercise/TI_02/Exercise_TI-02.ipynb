{
 "cells": [
  {
   "cell_type": "code",
   "execution_count": null,
   "metadata": {
    "scrolled": true
   },
   "outputs": [],
   "source": [
    "import sisl\n",
    "import numpy as np\n",
    "import matplotlib.pyplot as plt\n",
    "from matplotlib.collections import LineCollection\n",
    "%matplotlib inline"
   ]
  },
  {
   "cell_type": "markdown",
   "metadata": {},
   "source": [
    "# Spin Texture \n",
    "In this exercise, we learn how to calculate and plot spin-textures using ```sisl``` and ```SIESTA```, using buckled hexagonal bismuthene as an example.\n",
    "\n",
    "## Exercise Overview\n",
    "1. Create bismuthene geometry.\n",
    "2. Generate ```SIESTA``` Hamiltonian.\n",
    "3. Calculate the band structure.\n",
    "4. Calculate the spin texture.\n",
    "\n",
    "## Exercise\n",
    "\n",
    "#### 1. Create the geometry in ``sisl`` and save it.\n",
    "For this exercise, we model bismuthene in a buckled hexagonal phase. This crystal structure is similar to graphene, with two atoms per unit cell. However, the two sublattices form two parallel planes, separated by the buckling height $h$.\n",
    "We use an in-plane lattice constant $a$ of $4.60\\mathring{\\textrm{A}}$ and buckling height $h$ of $1.62\\mathring{\\textrm{A}}$. The lattice constant for the orthogonal direction $c$ can be large, e.g. $40\\mathring{\\textrm{A}}$.\n",
    "\n",
    "|Top view |Side View |\n",
    "|:--------|:---------|\n",
    "|<img src=\"img/Bi2D-BHex-c.png\" alt=\"BHex-c\" style=\"width: 400px;\"/>|<img src=\"img/Bi2D-BHex-a.png\" alt=\"BHex-a\" style=\"width: 400px;\"/>|"
   ]
  },
  {
   "cell_type": "code",
   "execution_count": null,
   "metadata": {
    "scrolled": true
   },
   "outputs": [],
   "source": [
    "# Define lattice vectors and atomic positions or use sisl.geom.honeycomb\n",
    "# geom = sisl.Geometry(atomic_positions, lattice_vectors, atomic_species)\n",
    "# geom = sisl.geom.honeycomb(bond, atoms)\n",
    "geom.write('STRUC.fdf')"
   ]
  },
  {
   "cell_type": "markdown",
   "metadata": {},
   "source": [
    "#### 2. Generate SIESTA Hamiltonian\n",
    "A sample input file for ``SIESTA`` can be found in the *siesta_work* folder. We refer to the manual (/Docs/siesta.pdf) for the description of input parameters. The ``SIESTA`` Hamiltonian is required to compute the spin texture. ``SIESTA`` will store it if the flag ``CDF.Save``, ``SaveHS``, or ``TS.HS.Save`` is set to ```true``` in the input file.\n",
    "```\n",
    "    siesta Bi2D_BHex.fdf > Bi2D_BHex.out\n",
    "```\n",
    "We can check the output file to ensure that the calculation converged and no errors occurred.\n",
    "\n",
    "_Notes:_\n",
    "``SIESTA`` produces different output files depending on which flag was used to write the Hamiltonian. The ``SystemLabel.HSX`` file (create with ``SaveHS True``) does not contain all the information needed for the following steps. For this, we have to include in the work folder the files:\n",
    "- ``SystemLabel.ORB_INDX`` for information on the Basis and auxiliary supercell,\n",
    "- ``SystemLabel.EIG`` for the Fermi level,\n",
    "- ``SystemLabel.XV`` or ``fdf``-file for the geometry."
   ]
  },
  {
   "cell_type": "markdown",
   "metadata": {},
   "source": [
    "#### 3 Bandstructure\n",
    "\n",
    "We now use ```sisl``` to calculate the band structure along the $\\mathrm{M}$-$\\Gamma$-$\\mathrm{K}$-$\\mathrm{M}$ path, reading the ```SIESTA``` Hamiltonian (Bi2D_BHex.nc, Bi2D_BHex.HSX or Bi2D_BHex.TSHS). \n",
    "\n",
    "*Notes:*\n",
    "- [seeK-path](https://www.materialscloud.org/work/tools/seekpath) can be used to find the k-point path in the Brillouin Zone.\n",
    "- ```sisl``` can save the geometry in different file formats, the ```xsf``` format can be read by seeK-path\n",
    "- seeK-path uses a standardized unit cell. The displayed k-points refer to the reciprocal cell corresponding to this standardized cell, not to the original one."
   ]
  },
  {
   "cell_type": "code",
   "execution_count": null,
   "metadata": {
    "scrolled": true
   },
   "outputs": [],
   "source": [
    "# Read the Hamiltonian from siesta output and create sisl.BandStructure\n",
    "# sile = sisl.get_sile('path/to/*.fdf')\n",
    "# H = ...\n",
    "# EFermi = ...\n",
    "# kpath = sisl.BandStructure(...)"
   ]
  },
  {
   "cell_type": "code",
   "execution_count": null,
   "metadata": {
    "scrolled": true
   },
   "outputs": [],
   "source": [
    "# Calculate the bands\n",
    "# bands = ..."
   ]
  },
  {
   "cell_type": "code",
   "execution_count": null,
   "metadata": {
    "scrolled": true
   },
   "outputs": [],
   "source": [
    "# Plot the band structure\n",
    "# Feel free to re-use code from previous exercises"
   ]
  },
  {
   "cell_type": "markdown",
   "metadata": {},
   "source": [
    "#### 4 Spin Texture\n",
    "\n",
    "The spin moment of a state $\\psi$ is given by the expectation value of the angular momentum operator $\\langle\\psi|\\vec{\\boldsymbol{\\mathcal{S}}}|\\psi\\rangle$. It is a three-dimensional vector and we can express its components in terms of the Pauli matrices $\\sigma_x$, $\\sigma_y$, $\\sigma_z$, and the overlap matrix $\\mathbf{S}$ as\n",
    "\n",
    "\\begin{align}\n",
    "    \\boldsymbol{\\mathcal S}_x &= \\langle\\psi| \\sigma_x \\mathbf{S} | \\psi\\rangle\\\\\n",
    "    \\boldsymbol{\\mathcal S}_y &= \\langle\\psi| \\sigma_y \\mathbf{S} | \\psi\\rangle\\\\\n",
    "    \\boldsymbol{\\mathcal S}_z &= \\langle\\psi| \\sigma_z \\mathbf{S} | \\psi\\rangle.\n",
    "\\end{align}\n",
    "\n",
    "In a periodic system, we define the band structure as the dispersion of the eigenenergies in reciprocal space. Analogously, we define the spin texture as the dispersion of the spin moments of the eigenstates.\n",
    "\n",
    "To calculate the spin texture along a path in reciprocal space we need to:\n",
    "\n",
    "1. Calculate the eigenstates for a k-point\n",
    "\n",
    "   We use the ``eigenstate`` routine of our  ``sisl.Hamiltonian`` to calculate all eigenstates at the given k-point. The routine returns an [``EigenstateElectron``](http://zerothi.github.io/sisl/docs/latest/api-generated/sisl.physics.EigenstateElectron.html) object, which contains all the eigenvectors and eigenvalues. This object also holds routines that enable the calculation of (projected) density of states, spin moments.\n",
    "   ```\n",
    "   H = sisl.Hamiltonian(...)\n",
    "   eigs = H.eigenstate(k=[...])\n",
    "   ```\n",
    "\n",
    "2. Calculate the spin moments of the eigenstates\n",
    "\n",
    "   The spin moments of the eigenstates can be calculated with the [``spin_moment``](http://zerothi.github.io/sisl/docs/latest/api-generated/sisl.physics.EigenstateElectron.html#sisl.physics.EigenstateElectron.spin_moment) routine.\n",
    "   - All eigenstates at once:\n",
    "   ```\n",
    "   eigs.spin_moment()\n",
    "   ```\n",
    "   - A single state\n",
    "   ```\n",
    "   eigs[i].spin_moment()\n",
    "   ```\n",
    "\n",
    "3. Calculate the spin texture\n",
    "\n",
    "   To calculate the full spin texture we loop over all k-points and repeatedly perform steps 1 and 2.\n",
    "   ```\n",
    "   kpath = sisl.BandStructure(H, ...)\n",
    "   for ik, k in enumerate(kpath):\n",
    "      # Perform steps 1 and 2\n",
    "      ...\n",
    "   ```\n",
    "   *In exercise 2 we will explore alternative solutions to this problem.*"
   ]
  },
  {
   "cell_type": "code",
   "execution_count": null,
   "metadata": {
    "scrolled": true
   },
   "outputs": [],
   "source": [
    "# Calculate the spin moments for all eigenstates along the k-path.\n",
    "# "
   ]
  },
  {
   "cell_type": "markdown",
   "metadata": {},
   "source": [
    "A convenient way to visualize the spin texture is by coloring the bands according to the spin moment. The template below can be used to plot the spin texture. \n",
    "\n",
    "For reference on how to create multi-colored lines refer to the matplotlib [documentation](https://matplotlib.org/3.1.1/gallery/lines_bars_and_markers/multicolored_line.html)."
   ]
  },
  {
   "cell_type": "code",
   "execution_count": null,
   "metadata": {
    "scrolled": true
   },
   "outputs": [],
   "source": [
    "def plot_spin_texture(kpath, bands, spin_moments):    \n",
    "    lk = kpath.lineark()\n",
    "    xtick, xtick_label = kpath.lineartick()    \n",
    "    nk, nbands = bands.shape\n",
    "    \n",
    "    # Create a figure with three subplot one for each component of the spin moment\n",
    "    fig, axes = plt.subplots(1, 3, figsize=(8, 4.5), dpi=300, sharex=True, sharey=True)\n",
    "\n",
    "    # Set the range of z-values, which will determine the color.\n",
    "    norm = plt.Normalize(-1, 1)\n",
    "\n",
    "    # Iterate over the spin components\n",
    "    for icomp, component in enumerate(['$S_x$', '$S_y$', '$S_z$']):\n",
    "        # Iterate over all bands \n",
    "        for ibnd in range(nbands):\n",
    "            # It is not possible to change the color of a line directly, so we create small \n",
    "            # line segements from one point on the x-axis to the next. These segments can \n",
    "            # then be colored individually.\n",
    "            points = np.array([lk, bands[:, ibnd]]).T.reshape(-1, 1, 2)\n",
    "            segments = np.concatenate([points[:-1], points[1:]], axis=1)\n",
    "            # Create a collection of the segments and specify a map that assigns colors \n",
    "            # to the segments according to the z-value\n",
    "            lc = LineCollection(segments, cmap='coolwarm', norm=norm)\n",
    "            # Set the z-values \n",
    "            lc.set_array(spin_moments[:, ibnd, icomp])             \n",
    "            lc.set_linewidth(3)\n",
    "\n",
    "            # Add the LineCollection to the subplot\n",
    "            line = axes[icomp].add_collection(lc)\n",
    "            \n",
    "        axes[icomp].set_title(component)\n",
    "\n",
    "    # All subplots share the same axis settings, so we can just adjust them once     \n",
    "    ymin, ymax = (-2, 2)\n",
    "    axes[0].set_xlim(min(lk), max(lk))\n",
    "    axes[0].set_ylim(ymin, ymax) \n",
    "    axes[0].set_ylabel('Eigenspectrum [eV]')\n",
    "    axes[0].xaxis.set_ticks(xtick)\n",
    "    axes[0].set_xticklabels(xtick_label)\n",
    "\n",
    "    for axis in axes:\n",
    "        for tick in xtick:\n",
    "            axis.plot([tick, tick], [ymin, ymax], 'k', linewidth=0.5)\n",
    "    \n",
    "    # Add a colorbar to the plot\n",
    "    fig.colorbar(line, ax=axes.ravel().tolist())\n",
    "    plt.show()"
   ]
  },
  {
   "cell_type": "code",
   "execution_count": null,
   "metadata": {},
   "outputs": [],
   "source": [
    "# Use the function above to plot the spin-texture\n",
    "# plot_spin_texture(...)"
   ]
  },
  {
   "attachments": {},
   "cell_type": "markdown",
   "metadata": {},
   "source": [
    "## Exercise:\n",
    "1. Note that every band is two-fold degenerate. How can we separately visualize the two degenerate bands?\n",
    "   - What is the difference in spin textures of the two degenerate bands?\n",
    "   - Why? \n",
    "\n",
    "   *Hint*: In which order are the bands are stored?\n",
    "\n",
    "2. There is a very compact way to calculate the spin texture *and* band-structure eigenvalues in one call\n",
    "   - when calling a method on a `sisl.BrillouinZone` object it allows for *more* keyword arguments, see [here](http://zerothi.github.io/sisl/docs/latest/api/physics.brillouinzone.html) under **Multiple quantities**\n",
    "   - the computationally expensive part is calculating the eigenstates (values and vectors). So doing this\n",
    "     once is preferred (especially for large structures). How can they be wrap them in one command?\n",
    "\n",
    "3. Sometimes it can be helpful to visualize the spin texture as arrows, paricularly if the spin moments are locked into one plane.\n",
    "   a. Create a path in k space, or a grid and calculate the eigenvalues and spin moments\n",
    "   b. Select one (or few bands)\n",
    "   c. Complete the code snippet below and use it to plot the spin moments as arrow. \n",
    "   "
   ]
  },
  {
   "cell_type": "code",
   "execution_count": null,
   "metadata": {
    "scrolled": true
   },
   "outputs": [],
   "source": [
    "#"
   ]
  },
  {
   "cell_type": "code",
   "execution_count": null,
   "metadata": {},
   "outputs": [],
   "source": [
    "# The results obtained with the compact form can be compared to the onces above:\n",
    "# np.allclose(spin_moments1, spin_moments2)"
   ]
  },
  {
   "attachments": {},
   "cell_type": "markdown",
   "metadata": {},
   "source": [
    "**Exercise 3**"
   ]
  },
  {
   "cell_type": "code",
   "execution_count": null,
   "metadata": {},
   "outputs": [],
   "source": [
    "# # Create a path in k space\n",
    "# kpath = sisl.BandStructure.param_circle(....)\n",
    "\n",
    "# # OR a grid\n",
    "# kpath = sisl.MonkhorstPack(...)\n",
    "\n",
    "# # OR find way to create BrillouinZone objects in the documentation\n",
    "# kpath = ...."
   ]
  },
  {
   "cell_type": "code",
   "execution_count": null,
   "metadata": {},
   "outputs": [],
   "source": [
    "# Calculate bands and spin moments\n",
    "# ..."
   ]
  },
  {
   "cell_type": "code",
   "execution_count": null,
   "metadata": {},
   "outputs": [],
   "source": [
    "# Select a subset\n"
   ]
  },
  {
   "cell_type": "code",
   "execution_count": null,
   "metadata": {},
   "outputs": [],
   "source": [
    "def plot_spin_arrows(k_cart, bands, moments, lines=True):\n",
    "\n",
    "    # Set up a plot with multiple suplots according to how many bands there are\n",
    "    nbnds = bands.shape[1]\n",
    "    nrows = int(np.sqrt(nbnds))\n",
    "    ncols = (nbnds + nrows - 1) // nrows\n",
    "    fig, axes = plt.subplots(nrows, ncols, figsize=(5*ncols, 5*nrows),\n",
    "                                sharex=True, sharey=True)\n",
    "\n",
    "    # If there is just one row, matplotlib will return a 1D array.\n",
    "    # For compatibility we make is two-dimensional\n",
    "    if nrows == 1:\n",
    "        axes = axes.reshape(1,-1)\n",
    "\n",
    "    # Iterate over all bands\n",
    "    for ibnd in range(nbnds):\n",
    "        # Select a subplot\n",
    "        row = ibnd // ncols\n",
    "        col = ibnd  % ncols\n",
    "\n",
    "        # Add the average energy as a title to the current suplot\n",
    "        axes[row,col].set_title(f'$\\langle E \\\\rangle$={np.mean(bands[:,ibnd]):.3f} eV', fontsize=18)\n",
    "\n",
    "\n",
    "        # (1) Plot the path as a line\n",
    "        if lines:\n",
    "            axes[row,col].plot(\n",
    "                <<k_x>>, <<k_y>>,\n",
    "                color='black', linewidth=1)\n",
    "\n",
    "        # (2) Indicate the out-of-plane moment as dots with varying point size\n",
    "        #     Additionally we use color to mark wether the moment point into or out of the plane\n",
    "        def color(x):\n",
    "            c = np.empty_like(x, dtype=object)\n",
    "            c[np.where(x < 0)] = \"tab:blue\"\n",
    "            c[np.where(x == 0)] = \"black\"\n",
    "            c[np.where(0 < x)] = \"tab:red\"\n",
    "            return c\n",
    "        \n",
    "        axes[row,col].scatter(\n",
    "            <<k_x>>, <<k_y>>,\n",
    "            s=<<|S_z|>>*100,  # point size \n",
    "            c=color(<<S_z>>),\n",
    "            label=\"($S_x$,$S_y$) [arb. units]\"\n",
    "            )\n",
    "        \n",
    "        # (3) Indicate the in-plane moments as arrows\n",
    "        axes[row,col].quiver(\n",
    "            <<k_x>>, <<k_y>>,\n",
    "            <<s_x>>, <<s_y>>,\n",
    "            pivot='tail',\n",
    "            scale=4,\n",
    "            color=\"tab:orange\"\n",
    "            )\n",
    "\n",
    "    # All subplots share the same axis settings, so we can just them once\n",
    "    # Change the range of the axes\n",
    "    axrange = (1.1*np.min(k_cart), 1.1*np.max(k_cart))\n",
    "    axes[0,0].set(xlim=axrange, ylim=axrange)\n",
    "    # Set the aspect ratio to 1\n",
    "    for ax in axes.ravel():\n",
    "        ax.set(aspect=1)\n",
    "\n",
    "    # Set common x and y-axis labels\n",
    "    fig.supxlabel('$k_x$ [1/Å]', fontsize=18)\n",
    "    fig.supylabel('$k_y$ [1/Å]', fontsize=18)\n",
    "    plt.show()"
   ]
  },
  {
   "cell_type": "markdown",
   "metadata": {},
   "source": [
    "## Learned methods\n",
    "- Calculating the eigenstates of a Hamiltonian\n",
    "- Evaluating spin moments of eigenstates\n",
    "- Computing the spin texture\n",
    "- Visualizing spin textures as color in a band structure plot\n",
    "- Calculating quantities along a path in k space efficiently"
   ]
  },
  {
   "cell_type": "code",
   "execution_count": null,
   "metadata": {},
   "outputs": [],
   "source": []
  }
 ],
 "metadata": {
  "kernelspec": {
   "display_name": "PostProcessing",
   "language": "python",
   "name": "python3"
  },
  "language_info": {
   "codemirror_mode": {
    "name": "ipython",
    "version": 3
   },
   "file_extension": ".py",
   "mimetype": "text/x-python",
   "name": "python",
   "nbconvert_exporter": "python",
   "pygments_lexer": "ipython3",
   "version": "3.9.13 | packaged by conda-forge | (main, May 27 2022, 16:58:50) \n[GCC 10.3.0]"
  },
  "vscode": {
   "interpreter": {
    "hash": "4e94e1acc92212c0f5415cff6f8ead7db9dc6d584df3cc23bce9533b6091437f"
   }
  }
 },
 "nbformat": 4,
 "nbformat_minor": 2
}
