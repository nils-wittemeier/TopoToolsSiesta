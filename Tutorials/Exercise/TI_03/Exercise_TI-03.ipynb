{
 "cells": [
  {
   "cell_type": "code",
   "execution_count": null,
   "metadata": {},
   "outputs": [],
   "source": [
    "import numpy as np\n",
    "import sisl\n",
    "import z2pack\n",
    "import matplotlib.pyplot as plt\n",
    "%matplotlib inline"
   ]
  },
  {
   "cell_type": "markdown",
   "metadata": {},
   "source": [
    "# $\\mathbb{Z}_2$ Topological Invariant\n",
    "In this exercise, we will use Z2Pack to calculate the $\\mathbb{Z}_2$ topological invariant of bismuthene. Exercise TI_02 is a prerequisite. Most of the discussion below follows the work of Gresh et al. [[Gresh2017](https://doi.org/10.1103/PhysRevB.95.075146)]. \n",
    "\n",
    "## Introduction\n",
    "\n",
    "### Hybrid Wannier Charge Centers\n",
    "\n",
    "Topological invariants are calculated in Z2Pack [[Gresh2017](https://doi.org/10.1103/PhysRevB.95.075146)] using Hybrid Wannier Charge Centers (HWCC), which are defined in terms of Hybrid Wannier Functions (HWF). The difference between HWFs and Wannier Functions is that the former are localized only in one direction (for instance, $x$) and delocalized in the others. In 2D, a Hybrid Wannier Function can be written as: \n",
    "\n",
    "\\begin{align}\n",
    "|n, l_x, k_y\\rangle = \\frac{1}{2\\pi}\\int\\mathrm{d}k_x\\; e^{i k_x l_x a_x}|\\psi^n_{k_x,k_y}\\rangle\n",
    "\\end{align}\n",
    "\n",
    "where $n$ is the band index, $l_x$ is an integer, and $a_x$ is the lattice constant along the direction in which the wavefunction is localized ($x$). The charge center of an HWF is defined as the average position of the function along $x$. The **Hybrid Wannier Charge Centers** are defined modulo the lattice constant as:  \n",
    "\n",
    "\\begin{align}\n",
    "\\bar x_n(k_y) = \\langle n, 0, k_y| \\hat{x} | n, 0, k_y\\rangle   \\quad (\\textrm{mod}\\,a_x)\n",
    "\\end{align}\n",
    "\n",
    "One can think of an HWCC as the charge center of a Wannier Function in a 1D system, coupled to an external parameter $k_y$. In this interpretation, the sum of all HWCCs is directly linked to the 1D hybrid electronic polarization (eq. 19 in [[Gresh2017](https://doi.org/10.1103/PhysRevB.95.075146)])\n",
    "\n",
    "\\begin{align}\n",
    "\\mathbf{P}^h_e(k_y) = e \\sum_n \\bar x_n(k_y)\n",
    "\\end{align}\n",
    "\n",
    "It should be noted that individual HWCCs are not gauge-invariant. The sum of all HWCCs and $\\mathbf{P}^h_e(k_y)$ are gauge-invariant. \n",
    "\n",
    "### From HWCC to topological invariants\n",
    "#### Chern number\n",
    "\n",
    "Since the HWCCs are defined modulo the lattice constant $a_x$, we can assume periodic boundary conditions $\\bar x(k_y) = \\bar x(k_y) + a_x$. In this way, $\\bar x(k_y)$ can be mapped on a point on the unit circle for any given $k_y$. As $k_y$ goes from 0 to $2\\pi$ the HWCCs and electronic polarization $P^h_e$ describe trajectories on a cylinder. The winding number of the trajectory of $P^h_e$ gives the Chern number of the system (Fig. 1). \n",
    "\n",
    "A Chern number can also be uniquely associated with any set of **isolated bands** and corresponds to the number of windings of the polarization of the subset of states. The Chern number of the whole system is equal to the sum of the individual Chern numbers.\n",
    "\n",
    "\\begin{table}[!h]\n",
    "    \\centering\n",
    "    \\begin{tabular}{p{\\textwidth}}\n",
    "    \\toprule\n",
    "    \\hspace{0.09\\columnwidth}\\includegraphics[width=0.80\\columnwidth]{/home/juijan/codes/TopoToolsSiesta/Tutorials/Exercise/TI_03/img/FIG_2_Gresch_PhyRevB95_075146_2017.png}\\\\\\midrule\n",
    "\n",
    "    Fig 1: Sketch of some possible evolutions of electronic polarization $P^h_e$ as a function of $k_y$ on a unrolled (top) or rolled (bottom) cylinder [\\href{https://doi.org/10.1103/PhysRevB.95.075146}{Gresh2017}]\\\\\n",
    "    \\bottomrule\n",
    "    \\end{tabular}\n",
    "\\end{table}\n",
    "#### Time-reversal invariance and the $\\mathbb{Z}_2$-invariant\n",
    "\n",
    "Under time-reversal symmetry, the Hilbert space of occupied states can be split into two subspaces which are mapped onto each other by time-reversal. This splits all Kramer pairs into states which are assigned to different subspaces. The Chern number $C_1$, $C_2$ of the subspaces are not uniquely defined and depend on which states are assigned to which subspace. However, as a consequence of the Chern number being odd under time-reversal, the two Chern numbers are always opposite $C_1=-C_2$, i.e. the Chern number of the full system is always zero.\n",
    "\n",
    "Further, the two states forming a Kramer pair have to carry opposite Chern numbers. Hence, if the states exchange subspaces, the two Chern numbers can only change by an even number and the $\\mathbb{Z}_2$ invariant\n",
    "\n",
    "\\begin{align}\n",
    "\\Delta = (C_1 - C_2)\\,/\\,2 \\quad (\\textrm{mod}\\,2)\n",
    "\\end{align}\n",
    "is well defined.\n",
    "\n",
    "\n",
    "In 3D systems, a single invariant is not enough to characterize a material and a set 4 indices\n",
    "\\begin{equation}\n",
    "\\nu; (\\nu_x, \\nu_y, \\nu_z),\n",
    "\\end{equation}\n",
    "is used instead. These indices are defined in terms of the $\\mathbf{Z}_2$ invariants of 2D cuts through the reciprocal cell. Each cut is obtained by fixing one component of the $k$-vector. The four indices are defined as\n",
    "\n",
    "\\begin{align}\n",
    "\\nu &= \\Delta(k_i=0) + \\Delta(k_i=0.5) \\quad (\\textrm{mod}\\,2),\\\\\n",
    "\\nu_i &= \\Delta, \n",
    "\\end{align}\n",
    "\n",
    "where $k_i$ is in reduced coordinates. A material is called a weak topological insulator if any of the $\\nu_i$ are non-zero, and a strong insulator if $\\nu$ is non-zero.\n",
    "\n",
    "\n",
    "\n",
    "#### Numerical computation of winding numbers\n",
    "\n",
    "In order to determine the winding number, we can \"unroll\" the cylinder and count the number of times the trajectory jumps from one side to the other. For instance, if the trajectory jumps from $\\bar{x}=a_x$ to $\\bar{x}=0$ the winding number increases by one. Instead, for a jump in the opposite direction, the winding number decreases by one. Given that the $\\mathbb{Z}_2$ invariant is defined modulo 2, we can neglect the direction of the jump and simply count the number of times the trajectory crosses $\\bar{x}=0$. In fact, it is possible to choose any line $f(k_y)$ and count the number of intersections, as long as the line connects the two ends of the cylinder (Fig. 2).\n",
    "\n",
    "Due to time-reversal symmetry, the HWCC trajectories of a Kramer pair ($i$,$j$) on the each half of the cylinder are related by: \n",
    "\n",
    "\\begin{equation}\n",
    "\\bar x_j\\left(\\frac{\\pi}{a_y} + k_y\\right) = \\bar x_i\\left(\\frac{\\pi}{a_y}-k_y\\right) \\quad(\\textrm{mod}\\,a_x).\n",
    "\\end{equation}\n",
    "\n",
    "It is, hence, sufficient to count the intersection on one half of the cylinder.\n",
    "\n",
    "\\begin{table}[!h]\n",
    "    \\centering\n",
    "    \\begin{tabular}{p{\\textwidth}}\n",
    "    \\toprule\n",
    "    \\hspace{0.09\\columnwidth}\\includegraphics[width=0.80\\columnwidth]{/home/juijan/codes/TopoToolsSiesta/Tutorials/Exercise/TI_03/img/FIG_5_Gresch_PhyRevB95_075146_2017.png}\\\\\\midrule\n",
    "\n",
    "    Fig 2: Sketch of possible evolutions of HWCCs (red and blue lines) for a system with two occupied bands and time-reversal symmetry. The $\\mathbb{Z}_2$ invariant can be calculated via the number of crossings of the trajectory with the arbitrary line $f(k_y)$ (dotted green), or the line formed by the center of the \\textit{largest gap} $g(k_y)$ (orange). Adapted from [\\href{https://doi.org/10.1103/PhysRevB.95.075146}{Gresh2017}]\\\\\n",
    "    \\bottomrule\n",
    "    \\end{tabular}\n",
    "\\end{table}\n",
    "\n",
    "\n",
    "Our discussion so far has focused on continuous trajectories. However, unless we are dealing with a model in which the dependence on $k_x$ and $k_y$ can be expressed analytically, wavefunctions and HWCCs have to be calculated on discrete meshes. In particular, the discretization in $k_y$ can be a numerical challenge: \n",
    "When we calculate the HWCCs for a finite set of $k_y$, we probe the trajectories on lines (*grid-lines*) parallel to $\\bar x$ (Fig 3). In order to correctly determine the winding number, we need to determine which points on neighboring grid-lines are connected. This requires a sufficiently dense $k_y$ sampling. \n",
    "\n",
    "\\begin{table}[!h]\n",
    "    \\centering\n",
    "    \\begin{tabular}{p{\\textwidth}}\n",
    "    \\toprule\n",
    "    \\hspace{0.09\\columnwidth}\\includegraphics[width=0.80\\columnwidth]{/home/juijan/codes/TopoToolsSiesta/Tutorials/Exercise/TI_03/img/FIG_7_Gresch_PhyRevB95_075146_2017.png}\\\\\\midrule\n",
    "\n",
    "    Fig 3: Sketch of HWCCs (circles) calculated on a finite $k_y$ grid. Blue diamonds indicate the center of the \\textit{largest gap} $g(k_y)$. Adapted from [\\href{https://doi.org/10.1103/PhysRevB.95.075146}{Gresh2017}]\\\\\n",
    "    \\bottomrule\n",
    "    \\end{tabular}\n",
    "\\end{table}\n",
    "\n",
    "In principle, it is possible to increase the mesh until the connectivity is obvious from visual inspection [[Ringel2011](https://doi.org/10.1103/PhysRevB.83.245115)]. Typically the HWCCs cluster together at some $k_y$. If this clustering occurs near $f(k_y)$, a rather dense grid is required, which can be computationally challenging. Moreover, this approach is difficult to automatize [[Soluyanov2011](https://doi.org/10.1103/PhysRevB.83.235401)].\n",
    "A different approach proposed by A. Soluyanov and D. Vanderbilt [[Soluyanov2011](https://doi.org/10.1103/PhysRevB.83.235401)] addresses this issue and offers a systematic way to calculate winding numbers. Vanderbilt method is:\n",
    "\n",
    "1. Evaluate the distances between pairs of neighboring HWCCs at every $k_y$ \n",
    "\n",
    "2. find the pair with the largest distance (*largest gap between HWCCs*)\n",
    "\n",
    "3. define the function $g(k_y)$ as the middle point of this distance (center of the *largest gap*)\n",
    "\n",
    "4. count the number of HWCCs this function $g(k_y)$ crosses from one mesh point to the next\n",
    "\n",
    "This method is implemented in Z2pack.\n",
    "\n",
    "_Reference:_\n",
    "\n",
    "[Gresh2017] Dominik Gresch et al., Phys. Rev. B **95**, 075146 (2017), \"Z2Pack: Numerical implementation of hybrid Wannier centers for identifying topological materials\", doi:[10.1103/PhysRevB.95.075146](https://doi.org/10.1103/PhysRevB.95.075146)\n",
    "\n",
    "[Soluyanov2011] Soluyanov, Alexey A. and Vanderbilt, David, Phys. Rev. B **83**, 235401 (2011), \"Computing topological invariants without inversion symmetry\", doi:[10.1103/PhysRevB.83.235401](https://doi.org/10.1103/PhysRevB.83.235401)\n",
    "\n",
    "[Ringel2011] Ringel, Zohar and Kraus, Yaacov E., Phys. Rev. B **83**, 245115 (2011), \"Determining topological order from a local ground-state correlation function\", doi:[10.1103/PhysRevB.83.245115](https://doi.org/10.1103/PhysRevB.83.245115)"
   ]
  },
  {
   "cell_type": "markdown",
   "metadata": {},
   "source": [
    "## Hands-on tutorial\n",
    "\n",
    "In order to run Z2Pack, we need to provide information about the Hamiltonian, the overlap matrix (S), and the orbital positions.\n",
    "We start by reading the geometry and Hamiltonian from the siesta output."
   ]
  },
  {
   "cell_type": "code",
   "execution_count": null,
   "metadata": {},
   "outputs": [],
   "source": [
    "# Code goes here\n",
    "#     Store the Hamiltonian in H"
   ]
  },
  {
   "cell_type": "markdown",
   "metadata": {},
   "source": [
    "We will create a system described by a Hamiltonian matrix (``hm``) in Z2Pack ([doc](http://z2pack.ethz.ch/doc/2.1/reference/hm.html)). This interface expects two functions as input: one returning the Hamiltonian matrix, and one the overlap matrix, for any given k-vector."
   ]
  },
  {
   "cell_type": "code",
   "execution_count": null,
   "metadata": {},
   "outputs": [],
   "source": [
    "Hk = lambda k: H.Hk(k=k, dtype=np.complex64, format='array')\n",
    "Sk = lambda k: H.Sk(k=k, dtype=np.complex64, format='array')"
   ]
  },
  {
   "cell_type": "markdown",
   "metadata": {},
   "source": [
    "Next, we need the positions of all orbitals in fractional coordinates. We note that the matrix elements are ordered in 2x2 blocks corresponding to spin-up and spin-down version of the same basis orbital. So we will now create a list of positions with the same order:"
   ]
  },
  {
   "cell_type": "code",
   "execution_count": null,
   "metadata": {},
   "outputs": [],
   "source": [
    "# Extract a list with the position of all orbitals. \n",
    "# Hint: One can map from the orbital indices onto the atomic indices like this\n",
    "# map(geom.o2a, range(geom.no))"
   ]
  },
  {
   "cell_type": "markdown",
   "metadata": {},
   "source": [
    "Now we can create the system in Z2Pack. For now, we will only look at the two highest occupied bands. They are degenerate  (Kramer degeneracy) and isolated from the rest of the occupied bands, which allows us to uniquely associate a $\\mathbb{Z}_2$ invariant with this pair.\n"
   ]
  },
  {
   "cell_type": "code",
   "execution_count": null,
   "metadata": {},
   "outputs": [],
   "source": [
    "system_hocc = z2pack.hm.System(\n",
    "        hamilton=Hk,\n",
    "        hermitian_tol=1e-5,\n",
    "        basis_overlap=Sk,\n",
    "        pos=pos,\n",
    "        bands=[28,29],\n",
    ")"
   ]
  },
  {
   "cell_type": "markdown",
   "metadata": {},
   "source": [
    "### Running a HWCC calculation\n",
    "In order to compute the $\\mathbb{Z}_2$ invariant, we need to specify \n",
    "1. the direction in reciprocal space to evaluate the trajectories of the HWF (eg. $k_y$) and\n",
    "2. the (real space) localization direction of the HWF  (eg. $x$)\n",
    "\n",
    "This defines a surface in k-space, which covers half of the BZ in one direction (eg. $k_y$)  and is periodic in the other (eg. $k_x$). \n",
    "To pass this information to Z2Pack, we need to define a function $h$ that covers half a period in the first argument and is periodic in the second argument. \n",
    "The domain is always $[0,1]^2$ and the function maps onto vectors in reciprocal space (in fractional coordinates).\n",
    "\\begin{align}\n",
    "&h: [0,1]^2 \\rightarrow \\mathbb{R}^3 \\\\\n",
    "&h(s,1) = h(s,0) + \\mathbf{G} \\\\\n",
    "&h(1,t) = h(0,t) + \\frac{1}{2}\\mathbf{G}'\n",
    "\\end{align}\n",
    "\n",
    "In our example we want to calculate the HWCCs along $k_x$ (the direction in k space corresponding to the direction of localizion in real space of the HWF) and trace the evolutions for $k_y$ going from $0$ to $\\pi$.\n",
    "\\begin{align}\n",
    "&h(k_y,1) = h(k_y, 0) + (1, 0, 0) \\\\\n",
    "&h(1,k_x) = h(0,k_x) + (0, 0.5, 0)\n",
    "\\end{align}"
   ]
  },
  {
   "cell_type": "code",
   "execution_count": null,
   "metadata": {},
   "outputs": [],
   "source": [
    "# Implement h as described above.\n",
    "# We can use lambda expressions or define a function.\n",
    "# surface=lambda s,t : ...\n",
    "# def surface(s,t):\n",
    "#     ..."
   ]
  },
  {
   "cell_type": "markdown",
   "metadata": {},
   "source": [
    "There are three different convergence criteria in Z2Pack:\n",
    "\n",
    "**1.  HWCCs position**\n",
    "\n",
    "   The code computes the change in the positions of the HWCCs as more k points are used to compute the HWF ($k_x$ in the above example). If the change is larger than the chosen tolerance more k points will be used. \n",
    "   - The position-tolerance is set by the flag ``pos_tol``. \n",
    "   - The initial number of k-points, the upper limit, and the step size are controlled via the flag ``iterator``. For instance, iterator=range(8, 27, 2) means that the number of k points ranges from 8 to 27 in steps of 2.\n",
    "   \n",
    "   \n",
    "**2. Movement of the HWCCs between grid-lines**\n",
    "   \n",
    "   The code computes the change in the position of the HWCCs from one grid-line  to the next (indicated in Figure 4 in red). In our example, the grid-lines sample the $k_y$ direction. A new grid-line is added in between if the change is larger than the set tolerance times the *largest gap* size. \n",
    "   - The movement-tolerance is set by the flag ``move_tol``.\n",
    "   - The initial number of grid-lines is controlled via the flag ``num_lines``.\n",
    "   - The lower limit for the distance between two lines is controlled via ``min_neighbour_dist``.\n",
    "   \n",
    "   \n",
    "**3. Position of the center of the largest gap**\n",
    "\n",
    "   The code computes the distance (orange line, Fig.4) between $g(k_y)$ (blue diamonds in Fig. 4) and the HWCC in neighboring grid-lines. If the distance is lower than the set tolerance times the *largest gap* size, a new grid-line is added in between.   \n",
    "   - The gap-tolerance is set by the flag ``gap_tol``.\n",
    "   - The initial number of grid-lines is controlled via the flag ``num_lines``. \n",
    "   - The lower limit for the distance between two grid-lines is controlled via ``min_neighbour_dist``.\n",
    "\n",
    "\\begin{table}[!h]\n",
    "    \\centering\n",
    "    \\begin{tabular}{p{\\textwidth}}\n",
    "    \\toprule\n",
    "    \\hspace{0.09\\columnwidth}\\includegraphics[width=0.80\\columnwidth]{/home/juijan/codes/TopoToolsSiesta/Tutorials/Exercise/TI_03/img/z2pack_check2.png}\\\\\\midrule\n",
    "\n",
    "    Fig 4: Sketch of possible evolutions of HWCCs (empty circles) and $g(k_y)$ \\textit{largest gap} center (blue diamonds) for a system with two occupied bands and time-reversal symmetry. The relevant distances for convergence checks are indicated. Red: Distance between the position of an HWCC in two neighboring lines; Orange: Distance between the *largest gap* center and the  HWCCs in neighboring lines\\\\\n",
    "    \\bottomrule\n",
    "    \\end{tabular}\n",
    "\\end{table}"
   ]
  },
  {
   "cell_type": "code",
   "execution_count": null,
   "metadata": {},
   "outputs": [],
   "source": [
    "# Run the WCC calculations\n",
    "settings = {'num_lines': 11,\n",
    "            'pos_tol': 1e-2,\n",
    "            'gap_tol': 2e-2,\n",
    "            'move_tol': 0.3,\n",
    "            'iterator': range(8, 27, 2),\n",
    "            'min_neighbour_dist': 1e-2,\n",
    "            'load': False,\n",
    "}\n",
    "\n",
    "result_hocc = z2pack.surface.run(\n",
    "    system=system_hocc,\n",
    "    surface=surface,\n",
    "    save_file='./res_hocc.json',\n",
    "    **settings\n",
    ")"
   ]
  },
  {
   "cell_type": "code",
   "execution_count": null,
   "metadata": {},
   "outputs": [],
   "source": [
    "print(\"Z2 invariant of the two highest, occupied bands: {}\".format(z2pack.invariant.z2(result_hocc)))"
   ]
  },
  {
   "cell_type": "markdown",
   "metadata": {},
   "source": [
    "We can visualize the HWCCs and the *largest gap* center:"
   ]
  },
  {
   "cell_type": "code",
   "execution_count": null,
   "metadata": {},
   "outputs": [],
   "source": [
    "import matplotlib.pyplot as plt\n",
    "%matplotlib inline\n",
    "\n",
    "fig, ax = plt.subplots(1, 1, figsize=(8,5))\n",
    "wcc_settings={'s': 50., 'lw': 1., 'facecolor': 'none', 'edgecolors': 'k', 'label':'HWCC'}\n",
    "gap_settings={'marker': 'D', 'color': 'b', 'linestyle': '--', 'label':'Gap position'}\n",
    "\n",
    "z2pack.plot.wcc(result_hocc, axis=ax, wcc_settings=wcc_settings, gap_settings=gap_settings)\n",
    "ax.set_title('Bands 29, 30', fontsize=14)\n",
    "ax.set_ylabel(r'$\\bar{x} [a_x]$', fontsize=14)\n",
    "ax.set_xlabel(r'$k_y [\\pi/a_y]$', fontsize=14)\n",
    "handles, labels = fig.gca().get_legend_handles_labels()\n",
    "by_label = dict(zip(labels, handles))\n",
    "fig.legend(by_label.values(), by_label.keys())\n",
    "plt.show()"
   ]
  },
  {
   "cell_type": "markdown",
   "metadata": {},
   "source": [
    "## Exercise:\n",
    "1. To familiarize ourselves with the different options, we should play with them. For this, we can use a small number of grid-lines and try different combinations of parameters. Even if a calculation did not converge, the HWCCs can be visualized. This allows us to see why a certain convergence check failed.\n",
    "\n",
    "2. We can calculate the $\\mathbb{Z}_2$ invariant for the whole system. In the last exercise (TI_02) we visualized the band structure. We can go back and adjust the range on the y-axis to get an idea of which sets of bands are isolated from others. There are different ways of splitting bands in sets, but all should give the same invariant when they are summed."
   ]
  },
  {
   "cell_type": "code",
   "execution_count": null,
   "metadata": {},
   "outputs": [],
   "source": []
  },
  {
   "cell_type": "code",
   "execution_count": null,
   "metadata": {},
   "outputs": [],
   "source": []
  },
  {
   "cell_type": "markdown",
   "metadata": {},
   "source": [
    "## Learned methods\n",
    "- Using ``lambda`` expressions to define simple functions\n",
    "- Determining $\\mathbb{Z}_2$ invariants from ``SIESTA`` outputs with ``sisl`` and ``Z2Pack``\n",
    "- Visualizing HWCCs and *largest gap* centers\n",
    "- Controlling convergence criteria of Z2Pack"
   ]
  },
  {
   "cell_type": "code",
   "execution_count": null,
   "metadata": {},
   "outputs": [],
   "source": []
  }
 ],
 "metadata": {
  "kernelspec": {
   "display_name": "Python 3",
   "language": "python",
   "name": "python3"
  },
  "language_info": {
   "codemirror_mode": {
    "name": "ipython",
    "version": 3
   },
   "file_extension": ".py",
   "mimetype": "text/x-python",
   "name": "python",
   "nbconvert_exporter": "python",
   "pygments_lexer": "ipython3",
   "version": "3.9.6"
  }
 },
 "nbformat": 4,
 "nbformat_minor": 2
}
